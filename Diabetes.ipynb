{
  "nbformat": 4,
  "nbformat_minor": 0,
  "metadata": {
    "colab": {
      "name": "Diabetes.ipynb",
      "provenance": [],
      "authorship_tag": "ABX9TyPxKysYFU9csWiM/xihctgU",
      "include_colab_link": true
    },
    "kernelspec": {
      "name": "python3",
      "display_name": "Python 3"
    },
    "language_info": {
      "name": "python"
    }
  },
  "cells": [
    {
      "cell_type": "markdown",
      "metadata": {
        "id": "view-in-github",
        "colab_type": "text"
      },
      "source": [
        "<a href=\"https://colab.research.google.com/github/5-621234/Diabetes_Prediction/blob/main/Diabetes.ipynb\" target=\"_parent\"><img src=\"https://colab.research.google.com/assets/colab-badge.svg\" alt=\"Open In Colab\"/></a>"
      ]
    },
    {
      "cell_type": "markdown",
      "source": [
        ""
      ],
      "metadata": {
        "id": "ZVnnG1ZdFPN0"
      }
    },
    {
      "cell_type": "markdown",
      "source": [
        "Flow of the Project:-    \n",
        "1)Diabetes Data\n",
        "\n",
        "2)Data Prepocessing\n",
        "\n",
        "3)Train-Test Split\n",
        "\n",
        "4)Support Vector Classifier Model\n",
        "\n",
        "5)Predicting"
      ],
      "metadata": {
        "id": "3JbyniJTF74W"
      }
    },
    {
      "cell_type": "markdown",
      "source": [
        ""
      ],
      "metadata": {
        "id": "PLVjpvU9F3lp"
      }
    },
    {
      "cell_type": "code",
      "source": [
        "import numpy as np\n",
        "import pandas as pd\n",
        "# StandardScaler is used to standardize data into a common format & Range.\n",
        "from sklearn.preprocessing import StandardScaler\n",
        "from sklearn.model_selection import train_test_split\n",
        "#Importing the Support Vector Machine model\n",
        "from sklearn import svm\n",
        "from sklearn.metrics import accuracy_score"
      ],
      "metadata": {
        "id": "XCtYB2MxGaDE"
      },
      "execution_count": null,
      "outputs": []
    },
    {
      "cell_type": "markdown",
      "source": [
        "Data Collection & Analysis"
      ],
      "metadata": {
        "id": "J9Tr7aR5LeZV"
      }
    },
    {
      "cell_type": "code",
      "source": [
        "# PIMA Dataset ,which is the data of only Womens not men\n",
        "\n",
        "#Loading the dataset into the variable\n",
        "Diabetes_data = pd.read_csv('/content/diabetes.csv')"
      ],
      "metadata": {
        "id": "YwQNgFA7HY0Z"
      },
      "execution_count": null,
      "outputs": []
    },
    {
      "cell_type": "code",
      "source": [
        "# printing the first 5 rows of the dataset\n",
        "Diabetes_data.head()"
      ],
      "metadata": {
        "id": "Pxsa0xVuNRJe"
      },
      "execution_count": null,
      "outputs": []
    },
    {
      "cell_type": "code",
      "source": [
        "# To get the no of rows & columns\n",
        "Diabetes_data.shape"
      ],
      "metadata": {
        "id": "rPnmzO-lNWjB"
      },
      "execution_count": null,
      "outputs": []
    },
    {
      "cell_type": "code",
      "source": [
        "# To get the Statistical Measure \n",
        "Diabetes_data.describe()"
      ],
      "metadata": {
        "id": "rci3WDBqPmhx"
      },
      "execution_count": null,
      "outputs": []
    },
    {
      "cell_type": "code",
      "source": [
        "# To the no of outcomes as 1 & as 0\n",
        "Diabetes_data['Outcome'].value_counts()"
      ],
      "metadata": {
        "id": "25tJuZRvQy7f"
      },
      "execution_count": null,
      "outputs": []
    },
    {
      "cell_type": "markdown",
      "source": [
        "0 - Non-Diabetic\n",
        "\n",
        "1- Diabetic"
      ],
      "metadata": {
        "id": "pclfP-c4SM9Q"
      }
    },
    {
      "cell_type": "code",
      "source": [
        "#To get the mean of the all the columns for diabetic & non- diabetic women\n",
        "Diabetes_data.groupby('Outcome').mean()"
      ],
      "metadata": {
        "id": "zlIiSS9bRwrc"
      },
      "execution_count": null,
      "outputs": []
    },
    {
      "cell_type": "code",
      "source": [
        "#  To separate the data and labels\n",
        "# We are droping a column(Outcome), we will use axis=1, if we drop a row,use axis =0;\n",
        "X = Diabetes_data.drop(columns = 'Outcome', axis=1)\n",
        "# Taking the only Outcome column in Y\n",
        "Y = Diabetes_data['Outcome']"
      ],
      "metadata": {
        "id": "f0F3vmTDS_8B"
      },
      "execution_count": null,
      "outputs": []
    },
    {
      "cell_type": "code",
      "source": [
        "# To print all the columns except Outcome\n",
        "print(X)"
      ],
      "metadata": {
        "id": "oFvWnRMgT7rw"
      },
      "execution_count": null,
      "outputs": []
    },
    {
      "cell_type": "code",
      "source": [
        "print(Y)"
      ],
      "metadata": {
        "id": "bTmOTyoZUwBs"
      },
      "execution_count": null,
      "outputs": []
    },
    {
      "cell_type": "code",
      "source": [
        ""
      ],
      "metadata": {
        "id": "TmzKpJ_-U3TR"
      },
      "execution_count": null,
      "outputs": []
    },
    {
      "cell_type": "markdown",
      "source": [
        "Data Standardization"
      ],
      "metadata": {
        "id": "ztmCjeswU9J3"
      }
    },
    {
      "cell_type": "code",
      "source": [
        "# Data Standardization is needed to get the data in a common range\n",
        "# StandardScaler is used to standardize data into a common format & Range.\n",
        "from sklearn.preprocessing import StandardScaler\n",
        "Scaler = StandardScaler()\n",
        "# To fit the x data in Scaler\n",
        "Scaler.fit(X)"
      ],
      "metadata": {
        "id": "HKytVBnEVFTq"
      },
      "execution_count": null,
      "outputs": []
    },
    {
      "cell_type": "code",
      "source": [
        "standardized_data = Scaler.transform(X)"
      ],
      "metadata": {
        "id": "be635tnRVd0r"
      },
      "execution_count": null,
      "outputs": []
    },
    {
      "cell_type": "code",
      "source": [
        "print(standardized_data)"
      ],
      "metadata": {
        "id": "jvHYo-A1V-6d"
      },
      "execution_count": null,
      "outputs": []
    },
    {
      "cell_type": "code",
      "source": [
        "X = standardized_data\n",
        "Y = Diabetes_data['Outcome']"
      ],
      "metadata": {
        "id": "RJg8PPb0cGT0"
      },
      "execution_count": null,
      "outputs": []
    },
    {
      "cell_type": "markdown",
      "source": [
        "Test & Train Data"
      ],
      "metadata": {
        "id": "hvfLfeXJcsOx"
      }
    },
    {
      "cell_type": "code",
      "source": [
        "X_train, X_test, Y_train, Y_test = train_test_split(X,Y, test_size = 0.2, stratify=Y, random_state=2)"
      ],
      "metadata": {
        "id": "sqAV1McbcgCY"
      },
      "execution_count": null,
      "outputs": []
    },
    {
      "cell_type": "code",
      "source": [
        "print( X_train.shape, X_test.shape)"
      ],
      "metadata": {
        "id": "PqZlTb01dweZ"
      },
      "execution_count": null,
      "outputs": []
    },
    {
      "cell_type": "markdown",
      "source": [
        "Train a Model"
      ],
      "metadata": {
        "id": "kY_YuaXxeBUq"
      }
    },
    {
      "cell_type": "code",
      "source": [
        "classifier = svm.SVC(kernel='linear')\n",
        "# To train the support vector Machine Classifier\n",
        "classifier.fit(X_train, Y_train)"
      ],
      "metadata": {
        "id": "OKHjJLqjd5bt"
      },
      "execution_count": null,
      "outputs": []
    },
    {
      "cell_type": "markdown",
      "source": [
        "Accuracy of Model"
      ],
      "metadata": {
        "id": "0NZE0w_3fSl4"
      }
    },
    {
      "cell_type": "code",
      "source": [
        "# To find the accuracy score on the training data\n",
        "X_train_prediction = classifier.predict(X_train)\n",
        "training_data_accuracy = accuracy_score(X_train_prediction, Y_train)"
      ],
      "metadata": {
        "id": "bDVmPIXne1da"
      },
      "execution_count": null,
      "outputs": []
    },
    {
      "cell_type": "code",
      "source": [
        "print(\"Accuracy = \",training_data_accuracy )"
      ],
      "metadata": {
        "id": "WOr7ghJdfKuh"
      },
      "execution_count": null,
      "outputs": []
    },
    {
      "cell_type": "code",
      "source": [
        "# To find the accuracy score on the test data\n",
        "X_test_prediction = classifier.predict(X_test)\n",
        "test_data_accuracy = accuracy_score(X_test_prediction, Y_test)"
      ],
      "metadata": {
        "id": "kAwTLq4Gfmxz"
      },
      "execution_count": null,
      "outputs": []
    },
    {
      "cell_type": "code",
      "source": [
        "print(\"Accuracy = \",test_data_accuracy )"
      ],
      "metadata": {
        "id": "RUhlDGfBfrw4"
      },
      "execution_count": null,
      "outputs": []
    },
    {
      "cell_type": "markdown",
      "source": [
        "Build the predict model"
      ],
      "metadata": {
        "id": "zsP_Gn6NgIGe"
      }
    },
    {
      "cell_type": "code",
      "source": [
        "input_data = (7,100,0,0,0,30,0.484,32)\n",
        "\n",
        "# To change the input_data to numpy array\n",
        "input_data_as_numpy_array = np.asarray(input_data)\n",
        "\n",
        "# To reshape the array as we are predicting for one instance\n",
        "input_data_reshaped = input_data_as_numpy_array.reshape(1,-1)\n",
        "\n",
        "# To standardize the input data\n",
        "std_data = Scaler.transform(input_data_reshaped)\n",
        "#print(std_data)\n",
        "\n",
        "prediction = classifier.predict(std_data)\n",
        "print(prediction)\n",
        "\n",
        "if (prediction[0] == 0):\n",
        "  print('The person is not diabetic')\n",
        "else:\n",
        "  print('The person is diabetic')"
      ],
      "metadata": {
        "id": "q7LYPW7ugLLK"
      },
      "execution_count": null,
      "outputs": []
    },
    {
      "cell_type": "code",
      "source": [
        ""
      ],
      "metadata": {
        "id": "MTfBg_MMgnQh"
      },
      "execution_count": null,
      "outputs": []
    }
  ]
}